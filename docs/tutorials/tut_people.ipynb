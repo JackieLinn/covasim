{
 "cells": [
  {
   "cell_type": "markdown",
   "metadata": {},
   "source": [
    "# T4 - People and data\n",
    "\n",
    "Modeling without data is like riding a bicycle while blindfolded – rarely dull, but often you don't get to where you want to go. This tutorial shows how to use data with Covasim, and gives a brief introduction to people, populations, and contact layers.\n",
    "\n",
    "没有数据的建模就像蒙着眼睛骑自行车--很少有枯燥乏味的时候，但往往无法到达你想去的地方。本教程介绍了如何使用 Covasim 中的数据，并简要介绍了人员、人口和联系人层。"
   ]
  },
  {
   "cell_type": "markdown",
   "metadata": {},
   "source": [
    "<div class=\"alert alert-info\">\n",
    "    \n",
    "Click [here](https://mybinder.org/v2/gh/institutefordiseasemodeling/covasim/HEAD?urlpath=lab%2Ftree%2Fdocs%2Ftutorials%2Ftut_people.ipynb) to open an interactive version of this notebook.\n",
    "    \n",
    "</div>"
   ]
  },
  {
   "cell_type": "markdown",
   "metadata": {},
   "source": [
    "## Data requirements\n",
    "\n",
    "Covasim is intentionally designed to be flexible with data requirements, acknowledging that some settings have large amounts of data, while others have very little. There are, however, some minimum data requirements if a real-world context is being modeled (as opposed to a theoretical exploration). These are:\n",
    "\n",
    "- **Population size:** To interpret results correctly, you need to know what the correct denominator is. Typically this is the city or country you're modeling, but sometimes it's not as simple as it may seem, especially early in an epidemic when cases tend to be concentrated near the source of the outbreak.\n",
    "- **Deaths per day:** Often considered to be the most reliable source of data, since deaths tend to be under-reported less than infections; however, significant under-reporting can still occur, so always treat reported deaths as the *lower* limit of the true value.\n",
    "- **Diagnosed cases per day:** Diagnosed cases are the most responsive measure of the epidemic conditions; however, they are dependent on both the number of infections and the testing rate. In settings with low or highly variable rates of testing, they may not be especially reliable.\n",
    "\n",
    "In addition to these essential data requirements, several other pieces of data are useful to have. These are:\n",
    "- **Seroprevalence:** Although seroprevalence rates wane over time, they are generally a more reliable indicator of total infections than diagnosed cases.\n",
    "- **Tests per day:** The number of tests can be used directly in the `test_num` intervention (see Tutorial 5), and is very useful for interpreting diagnoses data.\n",
    "- **Vaccinations per day:** In locations with high vaccination rates, understanding when the vaccines were rolled out (and with which vaccines) is important for estimating current immunity levels.\n",
    "- **Policy interventions:** While changes in transmission can often be seen directly in the data on cases and deaths, at minimum it is a useful sanity check to see if these changes line up with changes in policy such as mobility restrictions or mask mandates.\n",
    "\n",
    "Covasim 在设计上有意灵活处理数据要求，因为有些环境拥有大量数据，而有些环境则数据很少。但是，如果要模拟真实世界的环境（而不是理论探索），则有一些最低数据要求。这些要求是\n",
    "\n",
    "- **人口规模：** 要正确解释结果，需要知道正确的分母是什么。通常情况下，这是您正在建模的城市或国家，但有时并不像看起来那么简单，尤其是在流行病早期，病例往往集中在爆发源附近。\n",
    "- **每日死亡人数：** 通常被认为是最可靠的数据来源，因为死亡人数的漏报往往少于感染人数；但仍可能出现严重的漏报，因此应始终将报告的死亡人数视为真实值的下限。\n",
    "- **每日确诊病例数：** 确诊病例数是对流行病状况反应最灵敏的衡量指标，但它取决于感染人数和检测率。在检测率较低或变化很大的环境中，它们可能并不特别可靠。\n",
    "\n",
    "除了这些基本的数据要求外，其他一些数据也很有用。它们是\n",
    "- **血清流行率：** 尽管血清流行率会随着时间的推移而降低，但与确诊病例相比，血清流行率通常是更可靠的总感染指标。\n",
    "- **每天检测次数：** 检测次数可直接用于 “test_num ”干预（见教程 5），对解释诊断数据非常有用。\n",
    "- **每天接种疫苗数：** 在疫苗接种率较高的地区，了解疫苗的接种时间（以及接种的疫苗）对于估算当前的免疫水平非常重要。\n",
    "- **政策干预：** 虽然通常可以直接从病例和死亡数据中看到传播的变化，但至少可以检查这些变化是否与政策变化（如流动限制或口罩规定）一致。"
   ]
  },
  {
   "cell_type": "markdown",
   "metadata": {},
   "source": [
    "## Demographic data\n",
    "\n",
    "人口数据\n",
    "\n",
    "Covasim includes pre-downloaded data on country (and US state) age distributions and household size distributions. As we saw in Tutorial 1, you can load these data simply by using the `location` parameter. You can show a list of all available locations with `cv.data.show_locations()`. The data themselves are simply a set of dictionaries, and these can be modified directly; for example, to add a custom age distribution for Johannesburg would look like this:\n",
    "\n",
    "Covasim 包含预先下载的国家（和美国各州）年龄分布和家庭规模分布数据。正如我们在教程 1 中看到的，只需使用 `location` 参数就可以加载这些数据。您可以使用 `cv.data.show_locations()`显示所有可用地点的列表。数据本身只是一组字典，可以直接对其进行修改；例如，为约翰内斯堡添加自定义年龄分布的方法如下：\n",
    "\n",
    "```python\n",
    "# Note data format and key names!\n",
    "joburg_pop = {\n",
    "   '0-9':  286620,\n",
    "  '10-19': 277020,\n",
    "  '20-29': 212889,\n",
    "  '30-39': 161329,\n",
    "  '40-49': 104399,\n",
    "  '50-59': 51716,\n",
    "  '60-69': 36524,\n",
    "  '70-79': 22581,\n",
    "  '80+':   7086,\n",
    "}\n",
    "\n",
    "cv.data.country_age_data.data['Johannesburg'] = joburg_pop\n",
    "```\n",
    "\n",
    "You can then use these data via `sim = cv.Sim(location='Johannesburg')`.\n",
    "\n",
    "然后，您可以通过 `sim = cv.Sim(location='Johannesburg')`使用这些数据。"
   ]
  },
  {
   "cell_type": "markdown",
   "metadata": {},
   "source": [
    "## Epidemiological data scrapers\n",
    "\n",
    "流行病学数据搜索器\n",
    "\n",
    "Covasim includes a script to automatically download time series data on diagnoses, deaths, and other epidemiological information from several major sources of COVID-19 data. These include the [Corona Data Scraper](https://coronadatascraper.com), the [European Centre for Disease Prevention and\n",
    "Control](https://www.ecdc.europa.eu/en/geographical-distribution-2019-ncov-cases), and the [COVID Tracking Project](https://covidtracking.com). These scrapers provide data for a large number of locations (over 4000 at the time of writing), including the US down to the county level and many other countries down to the district level. The data they download is already in the correct format for Covasim.\n",
    "\n",
    "Covasim 包含一个脚本，用于从 COVID-19 数据的几个主要来源自动下载诊断、死亡和其他流行病学信息的时间序列数据。这些来源包括[Corona Data Scraper](https://coronadatascraper.com)、[European Centre for Disease Prevention and Control](https://coronadatascraper.com)[欧洲疾病预防与控制中心](https://www.ecdc.europa.eu/en/geographical-distribution-2019-ncov-cases) 和[COVID 追踪项目](https://covidtracking.com)。这些搜索器提供了大量地点的数据（撰写本文时超过 4000 个地点），包括美国的县级和许多其他国家的区级。它们下载的数据已经是 Covasim 的正确格式。"
   ]
  },
  {
   "cell_type": "markdown",
   "metadata": {},
   "source": [
    "<div class=\"alert alert-warning\">\n",
    "    \n",
    "**Note:** These data sources are frequently updated, and some may no longer work. Please contact us at info@covasim.org if you're having trouble.\n",
    "    \n",
    "</div>"
   ]
  },
  {
   "cell_type": "markdown",
   "metadata": {},
   "source": [
    "## Data input and formats\n",
    "\n",
    "The correct input data format for Covasim looks like this:"
   ]
  },
  {
   "cell_type": "code",
   "execution_count": null,
   "metadata": {},
   "outputs": [],
   "source": [
    "import pandas as pd\n",
    "df = pd.read_csv('example_data.csv')\n",
    "print(df)"
   ]
  },
  {
   "cell_type": "markdown",
   "metadata": {},
   "source": [
    "The data can be CSV, Excel, or JSON format. There **must** be a column named `date` (not \"Date\" or \"day\" or anything else). Otherwise, each column label must start with `new_` (daily) or `cum_` (cumulative) and then be followed by any of: `tests`, `diagnoses`, `deaths`, `severe` (corresponding to hospitalizations), or `critical` (corresponding to ICU admissions). While other columns can be included and will be loaded, they won't be parsed by Covasim. Note that if you enter a `new_` (daily) column, Covasim will automatically calculate a `cum_` (cumulative) column for you.\n",
    "\n",
    "数据可以是 CSV、Excel 或 JSON 格式。**必须**有一列名为 “日期”（而不是 “日期”、“日 ”或其他）。否则，每列标签必须以 `new_` （每日）或 `cum_` （累计）开头，然后跟上以下任何一个： 测试“、”诊断“、”死亡“、”严重“（对应住院）或 ”危重\"（对应入住重症监护室）。虽然可以包含并加载其他列，但 Covasim 不会对其进行解析。请注意，如果输入 “new_”（每日）列，Covasim 将自动为您计算 “cum_”（累计）列。"
   ]
  },
  {
   "cell_type": "markdown",
   "metadata": {},
   "source": [
    "<div class=\"alert alert-info\">\n",
    "    \n",
    "**Note:** Sometimes date information fails to be read properly, especially when loading from Excel files via pandas. If you encounter this problem, see Tutorial 10 for help on fixing this.\n",
    "    \n",
    "</div>"
   ]
  },
  {
   "cell_type": "markdown",
   "metadata": {},
   "source": [
    "This example shows how a simulation can load in the data, and how it automatically plots it. (We'll cover interventions properly in the next tutorial.)\n",
    "\n",
    "该示例展示了模拟如何加载数据，以及如何自动绘制数据。(我们将在下一个教程中适当介绍干预）。"
   ]
  },
  {
   "cell_type": "code",
   "execution_count": null,
   "metadata": {},
   "outputs": [],
   "source": [
    "import covasim as cv\n",
    "cv.options(jupyter=True, verbose=0)\n",
    "\n",
    "pars = dict(\n",
    "    start_day = '2020-02-01',\n",
    "    end_day   = '2020-04-11',\n",
    "    beta      = 0.015,\n",
    ")\n",
    "sim = cv.Sim(pars=pars, datafile='example_data.csv', interventions=cv.test_num(daily_tests='data'))\n",
    "sim.run()\n",
    "sim.plot(['cum_tests', 'cum_diagnoses', 'cum_deaths'])"
   ]
  },
  {
   "cell_type": "markdown",
   "metadata": {},
   "source": [
    "As you can see, this is not a great fit to data – but we'll come to calibration in Tutorial 7.\n",
    "\n",
    "如您所见，这与数据的拟合效果并不好，但我们将在教程 7 中讨论校准问题。"
   ]
  },
  {
   "cell_type": "markdown",
   "metadata": {
    "tags": []
   },
   "source": [
    "## People and contact network layers\n",
    "\n",
    "### How people work\n",
    "\n",
    "Agents in Covasim are contained in an object called `People`, which contains all of the agents' properties, as well as methods for changing them from one state to another (e.g., from susceptible to infected).\n",
    "\n",
    "Agents interact with each other via one or more *contact layers*. You can think of each agent as a node in a mathematical graph, and each connection as an edge. By default, Covasim creates a single random contact network where each agent is connected to 20 other agents, completely at random. However, this is not a very realistic representation of households, workplaces, schools, etc.\n",
    "\n",
    "For greater realism, Covasim also comes with a \"hybrid\" population option, which provides a more realism while still being fast to generate. (It's called \"hybrid\" because it's a combination of the random network and the [SynthPops](http://synthpops.org) network, described in Tutorial 11, which is much more realistic but requires a lot of data and is computationally intensive.) The hybrid option provides four *contact layers*: households `'h'`, schools `'s'`, workplaces `'w'`, and community interactions `'c'`. Each layer is defined by (a) which agents are connected to which other agents, and (b) the weight of each connection (i.e., transmission probability). Specifically:\n",
    "* Households are small clusters, usually 2-5 people (depending on country), consisting of a wide variety of ages; this setting has high transmission probability\n",
    "* Schools are split into classrooms, usually about 20 students each, of students aged 6–22; this setting has medium transmission probability\n",
    "* Workplaces are clusters of about 5-20 people, aged (approximately) 22-65; this setting has medium transmission probability\n",
    "* Community contacts (representing parks, restaurants, transport, places of worship, etc.) are estimated as 20 random contacts per day; this setting has low transmission probability\n",
    "\n",
    "### Loading population data\n",
    "\n",
    "Note that for most countries, you can load default data (age distribution and household size, both from the UN) by using the `location` keyword when creating a sim. For example, to create a realistic (i.e. hybrid) population 10,000 people for Bangladesh and plot the results, you would do:\n",
    "\n",
    "## 人与联系网络层\n",
    "\n",
    "### 人员如何工作\n",
    "\n",
    "Covasim 中的代理包含在一个名为 “人 ”的对象中，该对象包含代理的所有属性，以及将代理从一种状态转变为另一种状态（例如，从易感状态转变为感染状态）的方法。\n",
    "\n",
    "代理之间通过一个或多个*接触层*进行交互。您可以将每个代理视为数学图中的一个节点，将每个连接视为一条边。默认情况下，Covasim 会创建一个单一的随机接触网络，其中每个代理与其他 20 个代理完全随机连接。然而，这并不能非常真实地反映家庭、工作场所、学校等情况。\n",
    "\n",
    "为了更加逼真，Covasim 还提供了一个 “混合 ”人口选项，在快速生成的同时提供了更逼真的效果。(之所以称为 “混合”，是因为它是随机网络和教程 11 中介绍的[SynthPops](http://synthpops.org) 网络的结合，后者更加逼真，但需要大量数据，而且计算密集）。混合选项提供了四个*联系层*：家庭`'h'`、学校`'s'`、工作场所`'w'`和社区互动`'c'`。每一层的定义是：(a) 哪些代理人与哪些其他代理人有联系；(b) 每种联系的权重（即传输概率）。具体来说\n",
    "* 家庭是一个小的群组，通常有 2-5 人（取决于国家），由不同年龄段的人组成；这种设置具有较高的传播概率\n",
    "* 学校分为多个教室，通常每个教室约有 20 名学生，学生年龄在 6-22 岁之间；这种环境的传播概率中等。\n",
    "* 工作场所是由大约 5-20 人组成的群组，年龄（大约）在 22-65 岁之间；这种环境具有中等传播概率\n",
    "* 社区接触（代表公园、餐馆、交通、礼拜场所等）估计为每天 20 次随机接触；此环境的传播概率较低\n",
    "\n",
    "### 加载人口数据\n",
    "\n",
    "请注意，对于大多数国家，您可以在创建模拟时使用 “location ”关键字加载默认数据（年龄分布和家庭规模，均来自联合国）。例如，要为孟加拉国创建一个 10,000 人的现实（即混合）人口并绘制结果，您可以这样做："
   ]
  },
  {
   "cell_type": "code",
   "execution_count": null,
   "metadata": {
    "tags": []
   },
   "outputs": [],
   "source": [
    "pars = dict(\n",
    "    pop_size = 10_000, # Alternate way of writing 10000\n",
    "    pop_type = 'hybrid',\n",
    "    location = 'Bangladesh', # Case insensitive\n",
    ")\n",
    "\n",
    "sim = cv.Sim(pars)\n",
    "sim.initialize() # Create people\n",
    "fig = sim.people.plot() # Show statistics of the people"
   ]
  },
  {
   "cell_type": "markdown",
   "metadata": {},
   "source": [
    "<div class=\"alert alert-info\">\n",
    "\n",
    "**Note:** For an explanation of population size, total population, and dynamic rescaling, please see the [FAQ](https://docs.idmod.org/projects/covasim/en/latest/faq.html#what-are-the-relationships-between-population-size-number-of-agents-population-scaling-and-total-population).\n",
    "    \n",
    "</div>"
   ]
  },
  {
   "cell_type": "markdown",
   "metadata": {},
   "source": [
    "### Saving and loading people\n",
    "\n",
    "Since creating populations can be slow, and since deleting people is a bit mean, sometimes you want to save the population to work with it later. To do this, initialize the people, save them, then load them again. (This example also illustrates how you can use `sc.timer()` to check how long a block of code takes.)"
   ]
  },
  {
   "cell_type": "code",
   "execution_count": null,
   "metadata": {},
   "outputs": [],
   "source": [
    "import sciris as sc # We'll use this to time how long each one takes\n",
    "\n",
    "pars = dict(n_agents=50e3, pop_type='hybrid')\n",
    "\n",
    "with sc.timer('creating'):\n",
    "    sim1 = cv.Sim(pars).init_people()\n",
    "\n",
    "sim1.people.save('my-people.ppl')\n",
    "\n",
    "with sc.timer('loading'):\n",
    "    sim2 = cv.Sim(pars, popfile='my-people.ppl').init_people()"
   ]
  },
  {
   "cell_type": "markdown",
   "metadata": {},
   "source": [
    "It's about twice as fast to load a population than create one, but whether this will actually matter to you depends on the population size and the length of the simulation."
   ]
  }
 ],
 "metadata": {
  "kernelspec": {
   "display_name": "Python 3 (ipykernel)",
   "language": "python",
   "name": "python3"
  },
  "language_info": {
   "codemirror_mode": {
    "name": "ipython",
    "version": 3
   },
   "file_extension": ".py",
   "mimetype": "text/x-python",
   "name": "python",
   "nbconvert_exporter": "python",
   "pygments_lexer": "ipython3",
   "version": "3.9.10"
  },
  "pycharm": {
   "stem_cell": {
    "cell_type": "raw",
    "metadata": {
     "collapsed": false
    },
    "source": []
   }
  },
  "toc": {
   "base_numbering": 1,
   "nav_menu": {},
   "number_sections": true,
   "sideBar": true,
   "skip_h1_title": false,
   "title_cell": "Table of Contents",
   "title_sidebar": "Contents",
   "toc_cell": false,
   "toc_position": {},
   "toc_section_display": true,
   "toc_window_display": false
  }
 },
 "nbformat": 4,
 "nbformat_minor": 4
}
